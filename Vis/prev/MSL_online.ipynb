{
 "cells": [
  {
   "cell_type": "code",
   "execution_count": 1,
   "id": "e5ee51d0",
   "metadata": {},
   "outputs": [
    {
     "name": "stdout",
     "output_type": "stream",
     "text": [
      "/home/nas3_userJ/dmkim/TSADBench\n",
      "\u001b[0m\u001b[34;42manalysis\u001b[0m/     \u001b[34;42mdata\u001b[0m/  \u001b[34;42mhptune\u001b[0m/   \u001b[34;42mmodels\u001b[0m/   \u001b[34;42mqual\u001b[0m/       \u001b[34;42mscripts\u001b[0m/\n",
      "\u001b[34;42mcfgs\u001b[0m/         \u001b[34;42mEDA\u001b[0m/   \u001b[34;42mlogs\u001b[0m/     \u001b[34;42moutputs\u001b[0m/  \u001b[01;32mREADME.md\u001b[0m*  \u001b[34;42mutils\u001b[0m/\n",
      "\u001b[34;42mcheckpoints\u001b[0m/  \u001b[34;42mExp\u001b[0m/   \u001b[01;32mmain.py\u001b[0m*  \u001b[34;42mplots\u001b[0m/    \u001b[34;42mresults\u001b[0m/    \u001b[34;42mwandb\u001b[0m/\n"
     ]
    }
   ],
   "source": [
    "%cd ..\n",
    "%ls"
   ]
  },
  {
   "cell_type": "code",
   "execution_count": 2,
   "id": "d6e58e90",
   "metadata": {},
   "outputs": [],
   "source": [
    "import torch\n",
    "import matplotlib.pyplot as plt\n",
    "import torch.nn.functional as F\n",
    "from utils.metrics import get_auroc, get_summary_stats"
   ]
  },
  {
   "cell_type": "code",
   "execution_count": 3,
   "id": "7e9ed11e",
   "metadata": {},
   "outputs": [],
   "source": [
    "from torch import optim"
   ]
  },
  {
   "cell_type": "code",
   "execution_count": 4,
   "id": "2170b91e",
   "metadata": {},
   "outputs": [],
   "source": [
    "from models.MLP import MLP\n",
    "import matplotlib.pyplot as plt"
   ]
  },
  {
   "cell_type": "code",
   "execution_count": 5,
   "id": "312ec87f",
   "metadata": {},
   "outputs": [],
   "source": [
    "import wandb\n",
    "import hydra\n",
    "from omegaconf import DictConfig\n",
    "\n",
    "from utils.logger import make_logger\n",
    "from utils.argpass import prepare_arguments, configure_exp_id\n",
    "from utils.tools import SEED_everything\n",
    "\n",
    "import warnings\n",
    "from data.load_data import DataFactory\n",
    "from Exp.SklearnBaselines import *\n",
    "from Exp.ReconBaselines import *\n",
    "from Exp.Baselines import *\n",
    "\n",
    "from easydict import EasyDict as edict\n",
    "import yaml\n",
    "import re\n",
    "\n",
    "warnings.filterwarnings(\"ignore\")"
   ]
  },
  {
   "cell_type": "code",
   "execution_count": 6,
   "id": "c0a9c2c9",
   "metadata": {},
   "outputs": [],
   "source": [
    "def get_metrics(gt, anomaly_scores, threshold):\n",
    "    result = {}\n",
    "    # AUROC\n",
    "    auc = get_auroc(gt, anomaly_scores, threshold)\n",
    "    result.update({\"AUC\": auc})\n",
    "\n",
    "    # F1\n",
    "    pred = (anomaly_scores > threshold).astype(int)\n",
    "    metrics = get_summary_stats(gt, pred)\n",
    "    result.update(metrics)\n",
    "\n",
    "    return result"
   ]
  },
  {
   "cell_type": "code",
   "execution_count": 7,
   "id": "9bf074c7",
   "metadata": {},
   "outputs": [],
   "source": [
    "def plot_anomaly(ax, test_y):\n",
    "    s, e = None, None\n",
    "    for i in range(len(test_y)):\n",
    "        if test_y[i] == 1 and s is None:\n",
    "            s = i\n",
    "        elif test_y[i] == 0 and s is not None:\n",
    "            e = i - 1\n",
    "            if (e - s) > 0:\n",
    "                ax.axvspan(s, e, facecolor='red', alpha=0.5)\n",
    "            else:\n",
    "                ax.axvspan(s-0.5, s+0.5, facecolor='red', alpha=0.5)\n",
    "            s, e = None, None"
   ]
  },
  {
   "cell_type": "code",
   "execution_count": 8,
   "id": "2d441d90",
   "metadata": {},
   "outputs": [],
   "source": [
    "model = \"MLP\"\n",
    "cfg = {}\n",
    "loader = yaml.SafeLoader\n",
    "loader.add_implicit_resolver(\n",
    "    u'tag:yaml.org,2002:float',\n",
    "    re.compile(u'''^(?:\n",
    "     [-+]?(?:[0-9][0-9_]*)\\\\.[0-9_]*(?:[eE][-+]?[0-9]+)?\n",
    "    |[-+]?(?:[0-9][0-9_]*)(?:[eE][-+]?[0-9]+)\n",
    "    |\\\\.[0-9_]+(?:[eE][-+][0-9]+)?\n",
    "    |[-+]?[0-9][0-9_]*(?::[0-5]?[0-9])+\\\\.[0-9_]*\n",
    "    |[-+]?\\\\.(?:inf|Inf|INF)\n",
    "    |\\\\.(?:nan|NaN|NAN))$''', re.X),\n",
    "    list(u'-+0123456789.'))\n",
    "\n",
    "with open(\"cfgs/defaults.yaml\", \"r\") as file:\n",
    "    basic_config = yaml.load(file, Loader=loader)\n",
    "    cfg.update(basic_config)\n",
    "with open(f\"cfgs/model/{model}.yaml\", \"r\") as file:\n",
    "    model_config = yaml.load(file, Loader=loader)\n",
    "    cfg.update({\"model\": model_config})"
   ]
  },
  {
   "cell_type": "code",
   "execution_count": 9,
   "id": "431c2ba8",
   "metadata": {},
   "outputs": [],
   "source": [
    "cfg['dataset'] = 'MSL'"
   ]
  },
  {
   "cell_type": "code",
   "execution_count": 10,
   "id": "8e337efb",
   "metadata": {},
   "outputs": [
    {
     "name": "stdout",
     "output_type": "stream",
     "text": [
      "{'exp_id': 'MLP_MSL', 'dataset': 'MSL', 'batch_size': 64, 'eval_batch_size': 1, 'window_size': 12, 'stride': 1, 'eval_stride': 12, 'scaler': 'std', 'lr': 0.001, 'epochs': 30, 'log_freq': 10, 'checkpoint_path': './checkpoints/MLP_MSL', 'log_path': './logs/MLP_MSL', 'output_path': './outputs/MLP_MSL', 'plot_path': './plots/MLP_MSL', 'result_path': './results/MLP_MSL', 'thresholding': 'oracle', 'load_pretrained': True, 'eval_every_epoch': False, 'anomaly_reduction_mode': 'mean', 'defaults': [{'model': 'OCSVM'}], 'model': {'name': 'MLP', 'latent_dim': 128}, 'home_dir': '.', 'device': device(type='cuda')}\n"
     ]
    }
   ],
   "source": [
    "args = prepare_arguments(cfg)\n",
    "args.model.latent_dim = 128\n",
    "args.window_size = 12\n",
    "args.eval_batch_size = 1\n",
    "args.dataset = \"MSL\"\n",
    "print(args)"
   ]
  },
  {
   "cell_type": "code",
   "execution_count": 11,
   "id": "afd699c6",
   "metadata": {},
   "outputs": [
    {
     "name": "stderr",
     "output_type": "stream",
     "text": [
      "[2023-03-14 07:52:07,450] Configurations: {'exp_id': 'MLP_MSL', 'dataset': 'MSL', 'batch_size': 64, 'eval_batch_size': 1, 'window_size': 12, 'stride': 1, 'eval_stride': 12, 'scaler': 'std', 'lr': 0.001, 'epochs': 30, 'log_freq': 10, 'checkpoint_path': './checkpoints/MLP_MSL', 'log_path': './logs/MLP_MSL', 'output_path': './outputs/MLP_MSL', 'plot_path': './plots/MLP_MSL', 'result_path': './results/MLP_MSL', 'thresholding': 'oracle', 'load_pretrained': True, 'eval_every_epoch': False, 'anomaly_reduction_mode': 'mean', 'defaults': [{'model': 'OCSVM'}], 'model': {'name': 'MLP', 'latent_dim': 128}, 'home_dir': '.', 'device': device(type='cuda')}\n",
      "[2023-03-14 07:52:07,451] Preparing MSL dataset...\n",
      "[2023-03-14 07:52:07,452] current location: /home/nas3_userJ/dmkim/TSADBench\n",
      "[2023-03-14 07:52:07,452] home dir: .\n",
      "[2023-03-14 07:52:07,453] Preparing MSL ...\n",
      "[2023-03-14 07:52:07,496] train: X - (58317, 55), y - (58317,) test: X - (73729, 55), y - (73729,)\n",
      "[2023-03-14 07:52:07,503] Complete.\n",
      "[2023-03-14 07:52:07,504] Preparing dataloader...\n",
      "[2023-03-14 07:52:07,582] total train dataset- 912, batch_X - torch.Size([64, 12, 55]), batch_y - torch.Size([64, 12])\n",
      "[2023-03-14 07:52:07,583] total test dataset- 6144, batch_X - torch.Size([1, 12, 55]), batch_y - torch.Size([1, 12])\n",
      "[2023-03-14 07:52:07,584] Complete.\n"
     ]
    }
   ],
   "source": [
    "logger = make_logger(os.path.join(args.log_path, f'{args.exp_id}.log'))\n",
    "logger.info(f\"Configurations: {args}\")\n",
    "\n",
    "# Data\n",
    "logger.info(f\"Preparing {args.dataset} dataset...\")\n",
    "datafactory = DataFactory(args, logger)\n",
    "train_dataset, train_loader, test_dataset, test_loader = datafactory()\n",
    "args.num_channels = train_dataset.X.shape[1]"
   ]
  },
  {
   "cell_type": "code",
   "execution_count": 12,
   "id": "03618a25",
   "metadata": {},
   "outputs": [
    {
     "data": {
      "text/plain": [
       "((58317, 55), (58317,))"
      ]
     },
     "execution_count": 12,
     "metadata": {},
     "output_type": "execute_result"
    }
   ],
   "source": [
    "train_dataset.X.shape, train_dataset.y.shape"
   ]
  },
  {
   "cell_type": "code",
   "execution_count": 13,
   "id": "1822651d",
   "metadata": {},
   "outputs": [
    {
     "data": {
      "image/png": "[encoded data removed]",
      "text/plain": [
       "<Figure size 1440x432 with 1 Axes>"
      ]
     },
     "metadata": {
      "needs_background": "light"
     },
     "output_type": "display_data"
    },
    {
     "data": {
      "image/png": "[encoded data removed]",
      "text/plain": [
       "<Figure size 1440x432 with 1 Axes>"
      ]
     },
     "metadata": {
      "needs_background": "light"
     },
     "output_type": "display_data"
    }
   ],
   "source": [
    "C = 4\n",
    "dataset = \"MSL\"\n",
    "datafactory.visualize_dataset(train_dataset.X, train_dataset.y, test_dataset.X, test_dataset.y, dataset_name=dataset, feature_idx=C)"
   ]
  },
  {
   "cell_type": "code",
   "execution_count": 14,
   "id": "2bcb16e9",
   "metadata": {},
   "outputs": [],
   "source": [
    "train_X, train_y, test_X, test_y = train_dataset.X, train_dataset.y, test_dataset.X, test_dataset.y"
   ]
  },
  {
   "cell_type": "markdown",
   "id": "08299915",
   "metadata": {},
   "source": [
    "## Load Model"
   ]
  },
  {
   "cell_type": "code",
   "execution_count": 15,
   "id": "95ec6600",
   "metadata": {},
   "outputs": [],
   "source": [
    "trainer = MLP_Trainer(\n",
    "    args=args,\n",
    "    logger=logger,\n",
    "    train_loader=train_loader,\n",
    "    test_loader=test_loader,\n",
    ")"
   ]
  },
  {
   "cell_type": "code",
   "execution_count": 16,
   "id": "4d279293",
   "metadata": {},
   "outputs": [
    {
     "name": "stderr",
     "output_type": "stream",
     "text": [
      "[2023-03-14 07:52:10,652] loading: ./checkpoints/MLP_MSL/best.pth @Trainer - torch.load_state_dict\n"
     ]
    }
   ],
   "source": [
    "trainer.load(os.path.join(\"./checkpoints/MLP_MSL\", f\"best.pth\"))"
   ]
  },
  {
   "cell_type": "code",
   "execution_count": 17,
   "id": "4bf3d9b7",
   "metadata": {},
   "outputs": [
    {
     "data": {
      "text/plain": [
       "(device(type='cuda', index=0), True)"
      ]
     },
     "execution_count": 17,
     "metadata": {},
     "output_type": "execute_result"
    }
   ],
   "source": [
    "next(iter(trainer.model.parameters())).device, next(iter(trainer.model.parameters())).requires_grad"
   ]
  },
  {
   "cell_type": "markdown",
   "id": "2f3aa79c",
   "metadata": {},
   "source": [
    "## Training statistics"
   ]
  },
  {
   "cell_type": "code",
   "execution_count": null,
   "id": "a8f7820e",
   "metadata": {},
   "outputs": [
    {
     "name": "stderr",
     "output_type": "stream",
     "text": [
      "calculating reconstruction errors:  49%|████▉     | 448/912 [00:00<00:00, 739.73it/s]"
     ]
    }
   ],
   "source": [
    "train_iterator = tqdm(\n",
    "    trainer.train_loader,\n",
    "    total=len(trainer.train_loader),\n",
    "    desc=\"calculating reconstruction errors\",\n",
    "    leave=True\n",
    ")\n",
    "\n",
    "recon_errors = []\n",
    "with torch.no_grad():\n",
    "    for i, batch_data in enumerate(train_iterator):\n",
    "        X = batch_data[0].to(trainer.args.device)\n",
    "        B, L, C = X.shape\n",
    "        Xhat = trainer.model(X.reshape(B, L*C)).reshape(B, L, C)\n",
    "        recon_error = torch.nn.functional.mse_loss(Xhat, X, reduction='none')\n",
    "        recon_errors.append(recon_error)\n",
    "\n",
    "recon_errors = torch.cat(recon_errors, axis=0)\n",
    "print(recon_errors.shape)\n",
    "train_error_dist = recon_errors.mean(dim=(1, 2))"
   ]
  },
  {
   "cell_type": "markdown",
   "id": "fb5178de",
   "metadata": {},
   "source": [
    "## Test statistics"
   ]
  },
  {
   "cell_type": "code",
   "execution_count": null,
   "id": "bf5c1ea4",
   "metadata": {},
   "outputs": [],
   "source": [
    "eval_iterator = tqdm(\n",
    "    trainer.test_loader,\n",
    "    total=len(trainer.test_loader),\n",
    "    desc=\"calculating reconstruction errors\",\n",
    "    leave=True\n",
    ")\n",
    "\n",
    "anoscs_prev = []\n",
    "Xhats_prev = []\n",
    "with torch.no_grad():\n",
    "    for i, batch_data in enumerate(eval_iterator):\n",
    "        X, y = batch_data[0].to(trainer.args.device), batch_data[1].to(trainer.args.device)\n",
    "        B, L, C = X.shape\n",
    "        Xhat = trainer.model(X.reshape(B, L*C)).reshape(B, L, C)\n",
    "        Xhats_prev.append(Xhat)        \n",
    "        e = F.mse_loss(Xhat, X, reduction='none')\n",
    "        anosc = e.mean(dim=2)\n",
    "        anoscs_prev.append(anosc)\n",
    "\n",
    "Xhats_prev = torch.cat(Xhats_prev, axis=0).detach().cpu().numpy()\n",
    "anoscs_prev = torch.cat(anoscs_prev, axis=0).detach().cpu().numpy()"
   ]
  },
  {
   "cell_type": "code",
   "execution_count": null,
   "id": "d60616de",
   "metadata": {},
   "outputs": [],
   "source": [
    "thr = torch.quantile(train_error_dist, 0.95).item()\n",
    "thr"
   ]
  },
  {
   "cell_type": "markdown",
   "id": "ebfb98cc",
   "metadata": {},
   "source": [
    "## Thresholds"
   ]
  },
  {
   "cell_type": "code",
   "execution_count": null,
   "id": "c9d3289a",
   "metadata": {},
   "outputs": [],
   "source": [
    "train_100_threshold = torch.max(train_error_dist).item()\n",
    "train_99_threshold = torch.quantile(train_error_dist, 0.99).item()\n",
    "train_95_threshold = torch.quantile(train_error_dist, 0.95).item()\n",
    "oracle_threshold = trainer.oracle_thresholding(gt=test_y, anomaly_scores=anoscs_prev.reshape(-1))\n",
    "print(train_95_threshold, train_99_threshold, train_100_threshold, oracle_threshold,)"
   ]
  },
  {
   "cell_type": "code",
   "execution_count": null,
   "id": "85333f42",
   "metadata": {},
   "outputs": [],
   "source": [
    "# 95\n",
    "print(get_summary_stats(test_dataset.y, anoscs_prev.reshape(-1) > train_95_threshold))\n",
    "# 99\n",
    "print(get_summary_stats(test_dataset.y, anoscs_prev.reshape(-1) > train_99_threshold))\n",
    "# 100\n",
    "print(get_summary_stats(test_dataset.y, anoscs_prev.reshape(-1) > train_100_threshold))\n",
    "# oracle\n",
    "print(get_summary_stats(test_dataset.y, anoscs_prev.reshape(-1) > oracle_threshold))"
   ]
  },
  {
   "cell_type": "markdown",
   "id": "9e61ad18",
   "metadata": {},
   "source": [
    "### Label-guided Online learning"
   ]
  },
  {
   "cell_type": "code",
   "execution_count": null,
   "id": "db0f6f40",
   "metadata": {},
   "outputs": [],
   "source": [
    "init_thr = torch.quantile(train_error_dist, 0.95).item()\n",
    "thr = torch.tensor(init_thr, requires_grad=True)\n",
    "thr"
   ]
  },
  {
   "cell_type": "code",
   "execution_count": null,
   "id": "2303c72b",
   "metadata": {},
   "outputs": [],
   "source": [
    "eval_iterator = tqdm(\n",
    "    trainer.test_loader,\n",
    "    total=len(trainer.test_loader),\n",
    "    desc=\"calculating reconstruction errors\",\n",
    "    leave=True\n",
    ")\n",
    "\n",
    "lr = 1e-02\n",
    "TH_optimizer = torch.optim.SGD([thr]+[p for p in trainer.model.parameters()], lr=lr)\n",
    "bce = torch.nn.BCELoss()\n",
    "\n",
    "Xs = []\n",
    "Xhats = []\n",
    "yhats = []\n",
    "anoscs=[]\n",
    "thrs = []\n",
    "preds = []\n",
    "for i, batch_data in enumerate(eval_iterator):\n",
    "    X, y = batch_data[0].to(trainer.args.device), batch_data[1].to(trainer.args.device)\n",
    "    Xs.append(X)\n",
    "    \n",
    "    # infer\n",
    "    B, L, C = X.shape\n",
    "    Xhat = trainer.model(X.reshape(B, L*C)).reshape(B, L, C)\n",
    "    Xhats.append(Xhat)\n",
    "    \n",
    "    e = F.mse_loss(Xhat, X, reduction='none')\n",
    "    anosc = e.mean(dim=2)\n",
    "    anoscs.append(anosc)\n",
    "    thrs.append(thr.item())\n",
    "    pred = (anosc > thr)\n",
    "    preds.append(pred)\n",
    "    \n",
    "    # update\n",
    "    TH_optimizer.zero_grad()\n",
    "    yhat = torch.sigmoid(anosc-thr)\n",
    "    yhats.append(yhat)\n",
    "    cls_loss = bce(yhat, y.float())\n",
    "    mask = ((y == 0).unsqueeze(2))\n",
    "    recon_loss = (e*mask).mean()\n",
    "    loss = cls_loss + recon_loss\n",
    "    loss.backward()\n",
    "    TH_optimizer.step()\n",
    "    \n",
    "Xs = torch.cat(Xs, axis=0).detach().cpu().numpy()    \n",
    "Xhats = torch.cat(Xhats, axis=0).detach().cpu().numpy()\n",
    "yhats = torch.cat(yhats, axis=0).detach().cpu().numpy()\n",
    "\n",
    "anoscs = torch.cat(anoscs, axis=0).detach().cpu().numpy()\n",
    "thrs = np.repeat(np.array(thrs), args.window_size*args.eval_batch_size)\n",
    "preds = torch.cat(preds).reshape(-1).detach().cpu().numpy()"
   ]
  },
  {
   "cell_type": "code",
   "execution_count": null,
   "id": "81354415",
   "metadata": {},
   "outputs": [],
   "source": [
    "print(test_y.shape, preds.shape)\n",
    "get_summary_stats(test_y, preds)"
   ]
  },
  {
   "cell_type": "code",
   "execution_count": null,
   "id": "15433818",
   "metadata": {},
   "outputs": [],
   "source": [
    "# plot abnormal\n",
    "test_X, test_y = test_dataset.X, test_dataset.y\n",
    "\n",
    "B, L, C = Xhats.shape\n",
    "\n",
    "fig, ax = plt.subplots(6, 1, figsize=(20, 30))\n",
    "\n",
    "for c in range(min(args.num_channels, 5)):\n",
    "    # gt\n",
    "    plot_anomaly(ax[c], test_y)\n",
    "    \n",
    "    # reconed\n",
    "    ax[c].plot(Xhats_prev[:,:,c].reshape(-1), color=\"blue\", label=\"reconed w/o online learning\")\n",
    "    ax[c].plot(Xhats[:,:,c].reshape(-1), linewidth=0.5, color=\"green\", label=\"reconed w/ online learning\")\n",
    "    ax[c].plot(test_X[:, c], color=\"black\", label=\"gt\")\n",
    "    ax[c].legend()\n",
    "\n",
    "ax[5].set_ylim([-1, 20])\n",
    "ax[5].plot(anoscs_prev.reshape(-1), label=\"anomaly score w/o online learning\")\n",
    "ax[5].plot(anoscs.reshape(-1), label=\"anomaly score w/ online learning\")\n",
    "ax[5].axhline(train_95_threshold, color=\"purple\", label=\"train 95% threshold\")\n",
    "ax[5].axhline(oracle_threshold, color=\"black\", label=\"oracle threshold\")\n",
    "ax[5].plot(thrs, color=\"gold\",label=\"dynamic threshold\")\n",
    "ax[5].legend()\n",
    "plot_anomaly(ax[5], test_y)\n",
    "\n",
    "plt.show()"
   ]
  },
  {
   "cell_type": "code",
   "execution_count": null,
   "id": "a614a95e",
   "metadata": {},
   "outputs": [],
   "source": [
    "C = 7\n",
    "plt.figure(figsize=(20, 6))\n",
    "plt.title(f\"{args.dataset}, channel {C}\")\n",
    "plt.plot(train_X[:, C], label=\"train\")\n",
    "plt.plot(test_X[:, C], label=\"test\")\n",
    "#plot_anomaly(plt, test_y)\n",
    "plt.legend()\n",
    "plt.show()"
   ]
  },
  {
   "cell_type": "code",
   "execution_count": null,
   "id": "519362a9",
   "metadata": {},
   "outputs": [],
   "source": [
    "plt.figure(figsize=(20, 6))\n",
    "plt.plot(anoscs_prev.reshape(-1), label=\"anomaly score (MLP, recon)\")\n",
    "plot_anomaly(plt, test_y)\n",
    "plt.axhline(train_95_threshold, color=\"purple\", label=\"train 95% threshold\")\n",
    "plt.axhline(oracle_threshold, color=\"black\", label=\"oracle threshold\")\n",
    "plt.legend()\n",
    "plt.show()"
   ]
  },
  {
   "cell_type": "code",
   "execution_count": null,
   "id": "84bc6789",
   "metadata": {},
   "outputs": [],
   "source": []
  }
 ],
 "metadata": {
  "kernelspec": {
   "display_name": "Python 3",
   "language": "python",
   "name": "python3"
  },
  "language_info": {
   "codemirror_mode": {
    "name": "ipython",
    "version": 3
   },
   "file_extension": ".py",
   "mimetype": "text/x-python",
   "name": "python",
   "nbconvert_exporter": "python",
   "pygments_lexer": "ipython3",
   "version": "3.9.7"
  }
 },
 "nbformat": 4,
 "nbformat_minor": 5
}
