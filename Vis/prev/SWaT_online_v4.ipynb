{
 "cells": [
  {
   "cell_type": "code",
   "execution_count": 1,
   "id": "e5ee51d0",
   "metadata": {},
   "outputs": [
    {
     "name": "stdout",
     "output_type": "stream",
     "text": [
      "/home/nas3_userJ/dmkim/OnlineTSAD\n",
      "\u001b[0m\u001b[34;42mcfgs\u001b[0m/         \u001b[34;42mdata\u001b[0m/  \u001b[34;42mExp\u001b[0m/   \u001b[34;42mmodels\u001b[0m/   \u001b[34;42mplots\u001b[0m/    \u001b[01;32mtest.py\u001b[0m*   \u001b[34;42mutils\u001b[0m/  \u001b[34;42mwandb\u001b[0m/\r\n",
      "\u001b[34;42mcheckpoints\u001b[0m/  \u001b[34;42mEDA\u001b[0m/   \u001b[34;42mlogs\u001b[0m/  \u001b[34;42moutputs\u001b[0m/  \u001b[34;42mresults\u001b[0m/  \u001b[01;32mtrain.py\u001b[0m*  \u001b[34;42mVis\u001b[0m/\r\n"
     ]
    }
   ],
   "source": [
    "%cd ..\n",
    "%ls"
   ]
  },
  {
   "cell_type": "code",
   "execution_count": 2,
   "id": "d6e58e90",
   "metadata": {},
   "outputs": [],
   "source": [
    "import torch\n",
    "from torch import optim\n",
    "import torch.nn.functional as F\n",
    "\n",
    "import matplotlib.pyplot as plt\n",
    "\n",
    "from utils.metrics import get_summary_stats\n",
    "\n",
    "from models.MLP import MLP\n",
    "\n",
    "import wandb\n",
    "import hydra\n",
    "from omegaconf import DictConfig\n",
    "\n",
    "from utils.logger import make_logger\n",
    "from utils.argpass import prepare_arguments, configure_exp_id\n",
    "from utils.tools import SEED_everything, plot_anomaly\n",
    "\n",
    "import warnings\n",
    "from data.load_data import DataFactory\n",
    "from Exp.ReconBaselines import *\n",
    "\n",
    "from easydict import EasyDict as edict\n",
    "import yaml\n",
    "import re\n",
    "\n",
    "warnings.filterwarnings(\"ignore\")"
   ]
  },
  {
   "cell_type": "code",
   "execution_count": 3,
   "id": "2d441d90",
   "metadata": {},
   "outputs": [],
   "source": [
    "# load yaml\n",
    "cfg = {}\n",
    "loader = yaml.SafeLoader\n",
    "loader.add_implicit_resolver(\n",
    "    u'tag:yaml.org,2002:float',\n",
    "    re.compile(u'''^(?:\n",
    "     [-+]?(?:[0-9][0-9_]*)\\\\.[0-9_]*(?:[eE][-+]?[0-9]+)?\n",
    "    |[-+]?(?:[0-9][0-9_]*)(?:[eE][-+]?[0-9]+)\n",
    "    |\\\\.[0-9_]+(?:[eE][-+][0-9]+)?\n",
    "    |[-+]?[0-9][0-9_]*(?::[0-5]?[0-9])+\\\\.[0-9_]*\n",
    "    |[-+]?\\\\.(?:inf|Inf|INF)\n",
    "    |\\\\.(?:nan|NaN|NAN))$''', re.X),\n",
    "    list(u'-+0123456789.'))\n",
    "\n",
    "# get cfg\n",
    "model = \"MLP\"\n",
    "with open(\"cfgs/test_defaults.yaml\", \"r\") as file:\n",
    "    basic_config = yaml.load(file, Loader=loader)\n",
    "    cfg.update(basic_config)\n",
    "with open(f\"cfgs/model/{model}.yaml\", \"r\") as file:\n",
    "    model_config = yaml.load(file, Loader=loader)\n",
    "    cfg.update({\"model\": model_config})\n",
    "cfg['dataset'] = 'SWaT'"
   ]
  },
  {
   "cell_type": "code",
   "execution_count": 4,
   "id": "8e337efb",
   "metadata": {},
   "outputs": [
    {
     "name": "stderr",
     "output_type": "stream",
     "text": [
      "[2023-03-27 17:41:07,951] Configurations: {'exp_id': 'MLP_SWaT', 'dataset': 'SWaT', 'batch_size': 64, 'eval_batch_size': 1, 'window_size': 12, 'stride': 1, 'eval_stride': 12, 'scaler': 'std', 'load_previous_error': True, 'lr': 0.001, 'epochs': 30, 'log_freq': 10, 'checkpoint_path': './checkpoints/MLP_SWaT', 'log_path': './logs/MLP_SWaT', 'output_path': './outputs/MLP_SWaT', 'plot_path': './plots/MLP_SWaT', 'result_path': './results/MLP_SWaT', 'thresholding': 'oracle', 'defaults': [{'model': 'OCSVM'}], 'model': {'name': 'MLP', 'latent_dim': 128}, 'home_dir': '.', 'device': device(type='cuda')}\n",
      "[2023-03-27 17:41:07,952] Preparing SWaT dataset...\n",
      "[2023-03-27 17:41:07,953] current location: /home/nas3_userJ/dmkim/OnlineTSAD\n",
      "[2023-03-27 17:41:07,954] home dir: .\n",
      "[2023-03-27 17:41:07,955] Preparing SWaT ...\n"
     ]
    },
    {
     "name": "stdout",
     "output_type": "stream",
     "text": [
      "{'exp_id': 'MLP_SWaT', 'dataset': 'SWaT', 'batch_size': 64, 'eval_batch_size': 1, 'window_size': 12, 'stride': 1, 'eval_stride': 12, 'scaler': 'std', 'load_previous_error': True, 'lr': 0.001, 'epochs': 30, 'log_freq': 10, 'checkpoint_path': './checkpoints/MLP_SWaT', 'log_path': './logs/MLP_SWaT', 'output_path': './outputs/MLP_SWaT', 'plot_path': './plots/MLP_SWaT', 'result_path': './results/MLP_SWaT', 'thresholding': 'oracle', 'defaults': [{'model': 'OCSVM'}], 'model': {'name': 'MLP', 'latent_dim': 128}, 'home_dir': '.', 'device': device(type='cuda')}\n"
     ]
    },
    {
     "name": "stderr",
     "output_type": "stream",
     "text": [
      "[2023-03-27 17:41:17,462] train: X - (496800, 51), y - (496800,) test: X - (449919, 51), y - (449919,)\n",
      "[2023-03-27 17:41:17,540] Complete.\n",
      "[2023-03-27 17:41:17,541] Preparing dataloader...\n",
      "[2023-03-27 17:41:18,162] total train dataset- 7763, batch_X - torch.Size([64, 12, 51]), batch_y - torch.Size([64, 12])\n",
      "[2023-03-27 17:41:18,164] total test dataset- 37493, batch_X - torch.Size([1, 12, 51]), batch_y - torch.Size([1, 12])\n",
      "[2023-03-27 17:41:18,165] Complete.\n"
     ]
    },
    {
     "name": "stdout",
     "output_type": "stream",
     "text": [
      "(496800, 51) (496800,) (449916, 51) (449916,)\n"
     ]
    }
   ],
   "source": [
    "args = prepare_arguments(cfg)\n",
    "args.model.latent_dim = 128\n",
    "args.window_size = 12\n",
    "args.eval_batch_size = 1\n",
    "args.dataset = \"SWaT\"\n",
    "print(args)\n",
    "\n",
    "logger = make_logger(os.path.join(args.log_path, f'{args.exp_id}.log'))\n",
    "logger.info(f\"Configurations: {args}\")\n",
    "\n",
    "# Data\n",
    "logger.info(f\"Preparing {args.dataset} dataset...\")\n",
    "datafactory = DataFactory(args, logger)\n",
    "train_dataset, train_loader, test_dataset, test_loader = datafactory()\n",
    "args.num_channels = train_dataset.X.shape[1]\n",
    "train_X, train_y, test_X, test_y = train_dataset.X, train_dataset.y, test_dataset.X, test_dataset.y\n",
    "\n",
    "print(train_X.shape, train_y.shape, test_X.shape, test_y.shape)"
   ]
  },
  {
   "cell_type": "markdown",
   "id": "4fc1cbfd",
   "metadata": {},
   "source": [
    "## Visualize"
   ]
  },
  {
   "cell_type": "code",
   "execution_count": 5,
   "id": "1822651d",
   "metadata": {},
   "outputs": [
    {
     "data": {
      "image/png": "[encoded data removed]",
      "text/plain": [
       "<Figure size 1440x432 with 1 Axes>"
      ]
     },
     "metadata": {
      "needs_background": "light"
     },
     "output_type": "display_data"
    },
    {
     "data": {
      "image/png": "[encoded data removed]",
      "text/plain": [
       "<Figure size 1440x432 with 1 Axes>"
      ]
     },
     "metadata": {
      "needs_background": "light"
     },
     "output_type": "display_data"
    }
   ],
   "source": [
    "C = 5\n",
    "dataset = \"SWaT\"\n",
    "datafactory.visualize_dataset(train_dataset.X, train_dataset.y, test_dataset.X, test_dataset.y, dataset_name=dataset, feature_idx=C)"
   ]
  },
  {
   "cell_type": "markdown",
   "id": "08299915",
   "metadata": {},
   "source": [
    "## Train Model"
   ]
  },
  {
   "cell_type": "code",
   "execution_count": 6,
   "id": "9bbfaf4d",
   "metadata": {},
   "outputs": [],
   "source": [
    "import torch\n",
    "import torch.nn as nn\n",
    "\n",
    "class Encoder(nn.Module):\n",
    "    def __init__(self, input_size, latent_space_size):\n",
    "        super().__init__()\n",
    "        self.linear1 = nn.Linear(input_size, input_size // 2)\n",
    "        self.relu1 = nn.ReLU()\n",
    "        self.linear2 = nn.Linear(input_size // 2, input_size // 4)\n",
    "        self.relu2 = nn.ReLU()\n",
    "        self.linear3 = nn.Linear(input_size // 4, latent_space_size)\n",
    "        self.relu3 = nn.ReLU()\n",
    "\n",
    "    def forward(self, x):\n",
    "        x = self.linear1(x)\n",
    "        x = self.relu1(x)\n",
    "        x = self.linear2(x)\n",
    "        x = self.relu2(x)\n",
    "        x = self.linear3(x)\n",
    "        out = self.relu3(x)\n",
    "        return out\n",
    "\n",
    "class Decoder(nn.Module):\n",
    "    def __init__(self, input_size, latent_space_size):\n",
    "        super().__init__()\n",
    "        self.linear1 = nn.Linear(latent_space_size, input_size // 4)\n",
    "        self.relu1 = nn.ReLU()\n",
    "        self.linear2 = nn.Linear(input_size // 4, input_size // 2)\n",
    "        self.relu2 = nn.ReLU()\n",
    "        self.linear3 = nn.Linear(input_size // 2, input_size)\n",
    "\n",
    "    def forward(self, x):\n",
    "        x = self.linear1(x)\n",
    "        x = self.relu1(x)\n",
    "        x = self.linear2(x)\n",
    "        x = self.relu2(x)\n",
    "        out = self.linear3(x)\n",
    "        return out\n",
    "    \n",
    "class AnomalyScorer(nn.Module):\n",
    "    def __init__(self, input_size):\n",
    "        super().__init__()\n",
    "        self.linear = nn.Linear(input_size, 1)\n",
    "        \n",
    "    def forward(self, X, Xhat):\n",
    "        e = (Xhat-X)**2\n",
    "        a = torch.sigmoid(self.linear(e))\n",
    "        return a\n",
    "        \n",
    "\n",
    "class MLP(nn.Module):\n",
    "    def __init__(self, seq_len, num_channels, latent_space_size):\n",
    "        super().__init__()\n",
    "        self.encoder = Encoder(seq_len*num_channels, latent_space_size)\n",
    "        self.decoder = Decoder(seq_len*num_channels, latent_space_size)\n",
    "        self.anosc = AnomalyScorer(num_channels)\n",
    "\n",
    "    def forward(self, X):\n",
    "        B, L, C = X.shape\n",
    "        z = self.encoder(X.reshape(B, L*C))\n",
    "        Xhat = self.decoder(z).reshape(B, L, C)\n",
    "        anosc = self.anosc(X, Xhat)\n",
    "        return Xhat, anosc"
   ]
  },
  {
   "cell_type": "code",
   "execution_count": 7,
   "id": "3aac3eb1",
   "metadata": {},
   "outputs": [],
   "source": [
    "X = torch.randn((64, 12, 51)).to(args.device)\n",
    "B, L, C = X.shape"
   ]
  },
  {
   "cell_type": "code",
   "execution_count": 8,
   "id": "07833c23",
   "metadata": {},
   "outputs": [
    {
     "data": {
      "text/plain": [
       "(torch.Size([64, 12, 51]), torch.Size([64, 12, 1]))"
      ]
     },
     "execution_count": 8,
     "metadata": {},
     "output_type": "execute_result"
    }
   ],
   "source": [
    "model = MLP(seq_len=12, num_channels=51, latent_space_size=128).to(args.device)\n",
    "Xhat, anosc =  model(X)\n",
    "(Xhat.shape, anosc.shape)"
   ]
  },
  {
   "cell_type": "markdown",
   "id": "1f14b3e7",
   "metadata": {},
   "source": [
    "### train AE first"
   ]
  },
  {
   "cell_type": "code",
   "execution_count": 9,
   "id": "f1d4e09c",
   "metadata": {},
   "outputs": [
    {
     "name": "stderr",
     "output_type": "stream",
     "text": [
      "calculating reconstruction errors: 100%|██████████| 7763/7763 [00:36<00:00, 213.23it/s]\n"
     ]
    },
    {
     "name": "stdout",
     "output_type": "stream",
     "text": [
      "0.0313312348996474\n",
      "0.013262702836573501\n",
      "0.009886488789533202\n",
      "0.007890194215106729\n",
      "0.006860348128306491\n"
     ]
    }
   ],
   "source": [
    "train_iterator = tqdm(\n",
    "    train_loader,\n",
    "    total=len(train_loader),\n",
    "    desc=\"calculating reconstruction errors\",\n",
    "    leave=True\n",
    ")\n",
    "\n",
    "EPOCHS = 5\n",
    "optimizer = torch.optim.Adam(\n",
    "    params=\n",
    "    [p for p in model.encoder.parameters()]+\n",
    "    [p for p in model.decoder.parameters()], \n",
    "    lr=args.lr\n",
    ")\n",
    "for i in range(EPOCHS):\n",
    "    model.train()\n",
    "    train_summary = 0.0\n",
    "    for i, batch_data in enumerate(train_iterator):\n",
    "        X = batch_data[0].to(args.device)\n",
    "        B, L, C = X.shape\n",
    "\n",
    "        # recon\n",
    "        Xhat, anosc = model(X)\n",
    "\n",
    "        # optimize\n",
    "        optimizer.zero_grad()\n",
    "        loss = F.mse_loss(Xhat, X)\n",
    "        loss.backward()\n",
    "        optimizer.step()\n",
    "        \n",
    "        train_summary += loss.item()\n",
    "    train_summary /= len(train_loader)\n",
    "    print(train_summary)"
   ]
  },
  {
   "cell_type": "markdown",
   "id": "2f3aa79c",
   "metadata": {},
   "source": [
    "### Training statistics"
   ]
  },
  {
   "cell_type": "code",
   "execution_count": 10,
   "id": "a8f7820e",
   "metadata": {},
   "outputs": [
    {
     "name": "stderr",
     "output_type": "stream",
     "text": [
      "calculating reconstruction errors: 100%|██████████| 7763/7763 [00:13<00:00, 579.27it/s]"
     ]
    },
    {
     "name": "stdout",
     "output_type": "stream",
     "text": [
      "torch.Size([496789, 12, 51]), torch.Size([496789])\n"
     ]
    },
    {
     "name": "stderr",
     "output_type": "stream",
     "text": [
      "\n"
     ]
    }
   ],
   "source": [
    "train_iterator = tqdm(\n",
    "    train_loader,\n",
    "    total=len(train_loader),\n",
    "    desc=\"calculating reconstruction errors\",\n",
    "    leave=True\n",
    ")\n",
    "\n",
    "recon_errors = []\n",
    "with torch.no_grad():\n",
    "    for i, batch_data in enumerate(train_iterator):\n",
    "        X = batch_data[0].to(args.device)\n",
    "        B, L, C = X.shape\n",
    "        Xhat, anosc = model(X.reshape(B, L, C))\n",
    "        recon_error = torch.nn.functional.mse_loss(Xhat, X, reduction='none')\n",
    "        recon_errors.append(recon_error)\n",
    "\n",
    "recon_errors = torch.cat(recon_errors, axis=0)\n",
    "\n",
    "train_error_dist = recon_errors.mean(dim=(1, 2))\n",
    "\n",
    "print(f\"{recon_errors.shape}, {train_error_dist.shape}\")"
   ]
  },
  {
   "cell_type": "code",
   "execution_count": 11,
   "id": "9951c812",
   "metadata": {},
   "outputs": [
    {
     "data": {
      "text/plain": [
       "(0.018097836524248123, 0.185616597533226, 6.103304386138916)"
      ]
     },
     "execution_count": 11,
     "metadata": {},
     "output_type": "execute_result"
    }
   ],
   "source": [
    "th_q95 = torch.quantile(train_error_dist, 0.95).item()\n",
    "th_q99 = torch.quantile(train_error_dist, 0.99).item()\n",
    "th_q100 = torch.max(train_error_dist).item()\n",
    "th_q95, th_q99, th_q100"
   ]
  },
  {
   "cell_type": "code",
   "execution_count": 80,
   "id": "801d483f",
   "metadata": {},
   "outputs": [
    {
     "name": "stderr",
     "output_type": "stream",
     "text": [
      "calculating reconstruction errors: 100%|██████████| 7763/7763 [00:23<00:00, 326.35it/s]\n"
     ]
    },
    {
     "name": "stdout",
     "output_type": "stream",
     "text": [
      "0.01618983865006904\n",
      "0.008491444602369282\n",
      "0.006500592405726161\n",
      "0.005546203092558147\n",
      "0.004973624844480392\n"
     ]
    }
   ],
   "source": [
    "train_iterator = tqdm(\n",
    "    train_loader,\n",
    "    total=len(train_loader),\n",
    "    desc=\"calculating reconstruction errors\",\n",
    "    leave=True\n",
    ")\n",
    "\n",
    "as_optimizer = torch.optim.Adam(\n",
    "    params=model.parameters(), \n",
    "    lr=args.lr\n",
    ")\n",
    "bce = torch.nn.BCELoss()\n",
    "\n",
    "for i in range(EPOCHS):\n",
    "    model.train()\n",
    "    train_summary = 0.0\n",
    "    for i, batch_data in enumerate(train_iterator):\n",
    "        X = batch_data[0].to(args.device)\n",
    "        B, L, C = X.shape\n",
    "\n",
    "        # recon\n",
    "        Xhat, yhat = model(X)\n",
    "        E = F.mse_loss(Xhat, X, reduction='none').mean(dim=2, keepdim=True)\n",
    "        ytilde = (E > th_q95).float()\n",
    "        \n",
    "\n",
    "        # optimize\n",
    "        as_optimizer.zero_grad()\n",
    "        loss = bce(yhat, ytilde)\n",
    "        loss.backward()\n",
    "        as_optimizer.step()\n",
    "        \n",
    "        train_summary += loss.item()\n",
    "    train_summary /= len(train_loader)\n",
    "    print(train_summary)"
   ]
  },
  {
   "cell_type": "markdown",
   "id": "bf450c83",
   "metadata": {},
   "source": [
    "## Test: static threshold inference"
   ]
  },
  {
   "cell_type": "code",
   "execution_count": 81,
   "id": "bf5c1ea4",
   "metadata": {},
   "outputs": [
    {
     "name": "stderr",
     "output_type": "stream",
     "text": [
      "calculating reconstruction errors: 100%|██████████| 37493/37493 [00:28<00:00, 1303.08it/s]\n"
     ]
    }
   ],
   "source": [
    "eval_iterator = tqdm(\n",
    "    test_loader,\n",
    "    total=len(test_loader),\n",
    "    desc=\"calculating reconstruction errors\",\n",
    "    leave=True\n",
    ")\n",
    "\n",
    "anoscs_prev = []\n",
    "Xhats_prev = []\n",
    "with torch.no_grad():\n",
    "    for i, batch_data in enumerate(eval_iterator):\n",
    "        X, y = batch_data[0].to(args.device), batch_data[1].to(args.device)\n",
    "        B, L, C = X.shape\n",
    "        Xhat, yhat = model(X)\n",
    "        Xhats_prev.append(Xhat)        \n",
    "        anoscs_prev.append(yhat>0.5)\n",
    "\n",
    "Xhats_prev = torch.cat(Xhats_prev, axis=0).detach().cpu().numpy()\n",
    "anoscs_prev = torch.cat(anoscs_prev, axis=0).reshape(-1).detach().cpu().numpy()"
   ]
  },
  {
   "cell_type": "code",
   "execution_count": 84,
   "id": "d725431b",
   "metadata": {},
   "outputs": [
    {
     "name": "stdout",
     "output_type": "stream",
     "text": [
      "{'Accuracy': 0.31535219907716106, 'Precision': 0.1460373500773704, 'Recall': 0.9578631100688847, 'F1': 0.2534355141274157, 'tn': 89598, 'fp': 305734, 'fn': 2300, 'tp': 52284}\n"
     ]
    }
   ],
   "source": [
    "print(get_summary_stats(test_dataset.y, anoscs_prev))"
   ]
  },
  {
   "cell_type": "markdown",
   "id": "d3dca509",
   "metadata": {},
   "source": [
    "## Single-model"
   ]
  },
  {
   "cell_type": "code",
   "execution_count": null,
   "id": "95dcb6d0",
   "metadata": {},
   "outputs": [],
   "source": [
    "## v3\n",
    "eval_iterator = tqdm(\n",
    "    test_loader,\n",
    "    total=len(test_loader),\n",
    "    desc=\"calculating reconstruction errors\",\n",
    "    leave=True\n",
    ")\n",
    "\n",
    "lr = 1e-03\n",
    "pi = 0.05\n",
    "t = 100\n",
    "\n",
    "TT_optimizer = torch.optim.SGD([theta]+[p for p in source_model.parameters()], lr=lr)\n",
    "\n",
    "bce = torch.nn.BCELoss()\n",
    "\n",
    "Xs = []\n",
    "Xhats = []\n",
    "yhats = []\n",
    "thetas = []\n",
    "preds = []\n",
    "\n",
    "\n",
    "for i, batch_data in enumerate(eval_iterator):\n",
    "    X, y = batch_data[0].to(args.device), batch_data[1].to(args.device)\n",
    "    B, L, C = X.shape\n",
    "    Xs.append(X)\n",
    "    \n",
    "    # target model inference\n",
    "    with torch.no_grad():\n",
    "        Xhatp, yhatp = target_model(X)\n",
    "        \n",
    "    \n",
    "    # source model inference\n",
    "    Xhat, yhat = smodel(X)\n",
    "    ytilde = (yhatp > theta)\n",
    "    \n",
    "    # threshold\n",
    "    pred = (yhat > theta)\n",
    "    \n",
    "    # log source model outputs\n",
    "    Xhats.append(Xhat)\n",
    "    preds.append(pred)\n",
    "    thetas.append(theta.item())\n",
    "    \n",
    "    # update model\n",
    "    TT_optimizer.zero_grad()\n",
    "    recon_loss = (F.mse_loss(Xhat, X, reduction=\"none\")*~ytilde).mean()\n",
    "    theta_loss = 0.5*(((torch.clamp(yhat-theta, min=0))**2).mean() + pi*(theta**2))\n",
    "    loss = recon_loss + theta_loss\n",
    "    loss.backward()\n",
    "    TT_optimizer.step()\n",
    "    \n",
    "    # EMA\n",
    "    ema_updater.update(1)\n",
    "    \n",
    "    \n",
    "    \n",
    "Xs = torch.cat(Xs, axis=0).detach().cpu().numpy()    \n",
    "Xhats = torch.cat(Xhats, axis=0).detach().cpu().numpy()\n",
    "\n",
    "anoscs = torch.cat(As, axis=0).reshape(-1).detach().cpu().numpy()\n",
    "thrs = np.repeat(np.array(torch.stack(thrs).detach().cpu().numpy()), args.window_size*args.eval_batch_size)\n",
    "preds = torch.cat(preds).reshape(-1).detach().cpu().numpy()"
   ]
  },
  {
   "cell_type": "markdown",
   "id": "4c3367d4",
   "metadata": {},
   "source": [
    "## EMA"
   ]
  },
  {
   "cell_type": "code",
   "execution_count": 85,
   "id": "8e2f0bd8",
   "metadata": {},
   "outputs": [],
   "source": [
    "import torch\n",
    "import copy\n",
    "from utils.tools import set_requires_grad\n",
    "\n",
    "def set_requires_grad(model, val):\n",
    "    for p in model.parameters():\n",
    "        p.requires_grad = val\n",
    "        \n",
    "class EMAUpdater:\n",
    "    def __init__(self, source_model, target_model, moving_average_decay, start_iter=0):\n",
    "        super().__init__()\n",
    "        self.source_model = source_model\n",
    "        self.target_model = target_model\n",
    "        self.moving_average_decay = moving_average_decay\n",
    "        self.start_iter = start_iter\n",
    "\n",
    "        set_requires_grad(self.target_model, False)\n",
    "        self._update_moving_average(0.0)\n",
    "\n",
    "    def _update_moving_average(self, moving_average_decay):\n",
    "        with torch.no_grad():\n",
    "            for target_params, source_params in zip(self.target_model.parameters(), self.source_model.parameters()):\n",
    "                target_params.copy_(source_params.lerp(target_params, moving_average_decay))\n",
    "            for target_buffers, source_buffers in zip(self.target_model.buffers(), self.source_model.buffers()):\n",
    "                target_buffers.copy_(source_buffers)\n",
    "    \n",
    "    def update(self, iter_count):\n",
    "        if iter_count < self.start_iter:\n",
    "            self._update_moving_average(0.0)\n",
    "        else:\n",
    "            self._update_moving_average(self.moving_average_decay)"
   ]
  },
  {
   "cell_type": "markdown",
   "id": "1fdf4789",
   "metadata": {},
   "source": [
    "## Value-based Pseudo-label guided Online Learning"
   ]
  },
  {
   "cell_type": "code",
   "execution_count": 92,
   "id": "d2e5a1c0",
   "metadata": {},
   "outputs": [
    {
     "data": {
      "text/plain": [
       "tensor(0.5000, device='cuda:0', requires_grad=True)"
      ]
     },
     "execution_count": 92,
     "metadata": {},
     "output_type": "execute_result"
    }
   ],
   "source": [
    "theta = torch.tensor(0.5, requires_grad=True, device=args.device)\n",
    "theta"
   ]
  },
  {
   "cell_type": "code",
   "execution_count": 93,
   "id": "08f4e894",
   "metadata": {},
   "outputs": [],
   "source": [
    "pretrained_model = model\n",
    "source_model = copy.deepcopy(pretrained_model)\n",
    "target_model = copy.deepcopy(pretrained_model)\n",
    "ema_updater = EMAUpdater(source_model, target_model, 0.99)"
   ]
  },
  {
   "cell_type": "code",
   "execution_count": 94,
   "id": "ffbde895",
   "metadata": {},
   "outputs": [
    {
     "name": "stderr",
     "output_type": "stream",
     "text": [
      "calculating reconstruction errors: 100%|██████████| 37493/37493 [03:04<00:00, 203.71it/s]\n"
     ]
    },
    {
     "ename": "NameError",
     "evalue": "name 'As' is not defined",
     "output_type": "error",
     "traceback": [
      "\u001b[0;31m-----------------------------------------------------\u001b[0m",
      "\u001b[0;31mNameError\u001b[0m           Traceback (most recent call last)",
      "Input \u001b[0;32mIn [94]\u001b[0m, in \u001b[0;36m<module>\u001b[0;34m\u001b[0m\n\u001b[1;32m     58\u001b[0m Xs \u001b[38;5;241m=\u001b[39m torch\u001b[38;5;241m.\u001b[39mcat(Xs, axis\u001b[38;5;241m=\u001b[39m\u001b[38;5;241m0\u001b[39m)\u001b[38;5;241m.\u001b[39mdetach()\u001b[38;5;241m.\u001b[39mcpu()\u001b[38;5;241m.\u001b[39mnumpy()    \n\u001b[1;32m     59\u001b[0m Xhats \u001b[38;5;241m=\u001b[39m torch\u001b[38;5;241m.\u001b[39mcat(Xhats, axis\u001b[38;5;241m=\u001b[39m\u001b[38;5;241m0\u001b[39m)\u001b[38;5;241m.\u001b[39mdetach()\u001b[38;5;241m.\u001b[39mcpu()\u001b[38;5;241m.\u001b[39mnumpy()\n\u001b[0;32m---> 61\u001b[0m anoscs \u001b[38;5;241m=\u001b[39m torch\u001b[38;5;241m.\u001b[39mcat(\u001b[43mAs\u001b[49m, axis\u001b[38;5;241m=\u001b[39m\u001b[38;5;241m0\u001b[39m)\u001b[38;5;241m.\u001b[39mreshape(\u001b[38;5;241m-\u001b[39m\u001b[38;5;241m1\u001b[39m)\u001b[38;5;241m.\u001b[39mdetach()\u001b[38;5;241m.\u001b[39mcpu()\u001b[38;5;241m.\u001b[39mnumpy()\n\u001b[1;32m     62\u001b[0m thrs \u001b[38;5;241m=\u001b[39m np\u001b[38;5;241m.\u001b[39mrepeat(np\u001b[38;5;241m.\u001b[39marray(torch\u001b[38;5;241m.\u001b[39mstack(thrs)\u001b[38;5;241m.\u001b[39mdetach()\u001b[38;5;241m.\u001b[39mcpu()\u001b[38;5;241m.\u001b[39mnumpy()), args\u001b[38;5;241m.\u001b[39mwindow_size\u001b[38;5;241m*\u001b[39margs\u001b[38;5;241m.\u001b[39meval_batch_size)\n\u001b[1;32m     63\u001b[0m preds \u001b[38;5;241m=\u001b[39m torch\u001b[38;5;241m.\u001b[39mcat(preds)\u001b[38;5;241m.\u001b[39mreshape(\u001b[38;5;241m-\u001b[39m\u001b[38;5;241m1\u001b[39m)\u001b[38;5;241m.\u001b[39mdetach()\u001b[38;5;241m.\u001b[39mcpu()\u001b[38;5;241m.\u001b[39mnumpy()\n",
      "\u001b[0;31mNameError\u001b[0m: name 'As' is not defined"
     ]
    }
   ],
   "source": [
    "## v3\n",
    "eval_iterator = tqdm(\n",
    "    test_loader,\n",
    "    total=len(test_loader),\n",
    "    desc=\"calculating reconstruction errors\",\n",
    "    leave=True\n",
    ")\n",
    "\n",
    "lr = 1e-03\n",
    "pi = 0.05\n",
    "t = 100\n",
    "\n",
    "TT_optimizer = torch.optim.SGD([theta]+[p for p in source_model.parameters()], lr=lr)\n",
    "\n",
    "bce = torch.nn.BCELoss()\n",
    "\n",
    "Xs = []\n",
    "Xhats = []\n",
    "yhats = []\n",
    "thetas = []\n",
    "preds = []\n",
    "\n",
    "\n",
    "for i, batch_data in enumerate(eval_iterator):\n",
    "    X, y = batch_data[0].to(args.device), batch_data[1].to(args.device)\n",
    "    B, L, C = X.shape\n",
    "    Xs.append(X)\n",
    "    \n",
    "    # target model inference\n",
    "    with torch.no_grad():\n",
    "        Xhatp, yhatp = target_model(X)\n",
    "        ytilde = (yhatp > theta)\n",
    "    \n",
    "    # source model inference\n",
    "    Xhat, yhat = source_model(X)\n",
    "    \n",
    "    # threshold\n",
    "    pred = (yhat > theta)\n",
    "    \n",
    "    # log source model outputs\n",
    "    Xhats.append(Xhat)\n",
    "    preds.append(pred)\n",
    "    thetas.append(theta.item())\n",
    "    \n",
    "    # update model\n",
    "    TT_optimizer.zero_grad()\n",
    "    recon_loss = (F.mse_loss(Xhat, X, reduction=\"none\")*~ytilde).mean()\n",
    "    theta_loss = 0.5*(((torch.clamp(yhat-theta, min=0))**2).mean() + pi*(theta**2))\n",
    "    loss = recon_loss + theta_loss\n",
    "    loss.backward()\n",
    "    TT_optimizer.step()\n",
    "    \n",
    "    # EMA\n",
    "    ema_updater.update(1)\n",
    "    \n",
    "    \n",
    "    \n",
    "Xs = torch.cat(Xs, axis=0).detach().cpu().numpy()    \n",
    "Xhats = torch.cat(Xhats, axis=0).detach().cpu().numpy()\n",
    "\n",
    "anoscs = torch.cat(As, axis=0).reshape(-1).detach().cpu().numpy()\n",
    "thrs = np.repeat(np.array(torch.stack(thrs).detach().cpu().numpy()), args.window_size*args.eval_batch_size)\n",
    "preds = torch.cat(preds).reshape(-1).detach().cpu().numpy()"
   ]
  },
  {
   "cell_type": "code",
   "execution_count": 95,
   "id": "12abd294",
   "metadata": {},
   "outputs": [],
   "source": [
    "preds = torch.cat(preds).reshape(-1).detach().cpu().numpy()"
   ]
  },
  {
   "cell_type": "code",
   "execution_count": 41,
   "id": "2c6257a1",
   "metadata": {},
   "outputs": [
    {
     "data": {
      "text/plain": [
       "torch.Size([37493])"
      ]
     },
     "execution_count": 41,
     "metadata": {},
     "output_type": "execute_result"
    }
   ],
   "source": [
    "torch.stack(thrs).shape"
   ]
  },
  {
   "cell_type": "code",
   "execution_count": 96,
   "id": "9edd1d38",
   "metadata": {},
   "outputs": [
    {
     "name": "stdout",
     "output_type": "stream",
     "text": [
      "(449916,) (449916,)\n"
     ]
    },
    {
     "data": {
      "text/plain": [
       "{'Accuracy': 0.3440108820313125,\n",
       " 'Precision': 0.15118207971787853,\n",
       " 'Recall': 0.9550417704821926,\n",
       " 'F1': 0.2610415623435153,\n",
       " 'tn': 102646,\n",
       " 'fp': 292686,\n",
       " 'fn': 2454,\n",
       " 'tp': 52130}"
      ]
     },
     "execution_count": 96,
     "metadata": {},
     "output_type": "execute_result"
    }
   ],
   "source": [
    "print(test_y.shape, preds.shape)\n",
    "get_summary_stats(test_y, preds)"
   ]
  },
  {
   "cell_type": "markdown",
   "id": "0b3d6e35",
   "metadata": {},
   "source": [
    "## Anomaly score plot"
   ]
  },
  {
   "cell_type": "code",
   "execution_count": 44,
   "id": "f11572ca",
   "metadata": {},
   "outputs": [
    {
     "data": {
      "image/png": "[encoded data removed]",
      "text/plain": [
       "<Figure size 1440x432 with 1 Axes>"
      ]
     },
     "metadata": {
      "needs_background": "light"
     },
     "output_type": "display_data"
    }
   ],
   "source": [
    "#ax[5].set_ylim([-1, 20])\n",
    "plt.figure(figsize=(20, 6))\n",
    "plt.ylim([-1, 50])\n",
    "plt.plot(anoscs_prev, color=\"blue\", label=\"anomaly score w/o online learning\")\n",
    "plt.plot(anoscs, color=\"green\", label=\"anomaly score w/ online learning\")\n",
    "plt.axhline(th_q95, color=\"purple\", label=\"train 95% threshold\")\n",
    "plt.plot(thrs, color=\"gold\",label=\"dynamic threshold\")\n",
    "plt.legend()\n",
    "plot_anomaly(plt, test_y)\n",
    "\n",
    "plt.show()"
   ]
  },
  {
   "cell_type": "code",
   "execution_count": 45,
   "id": "3a5f360f",
   "metadata": {},
   "outputs": [
    {
     "name": "stdout",
     "output_type": "stream",
     "text": [
      "[1754, 2693], 939 / 940\n",
      "[3068, 3510], 442 / 443\n",
      "[4920, 5302], 382 / 383\n",
      "[6459, 6848], 389 / 390\n",
      "[7255, 7450], 195 / 196\n",
      "[7705, 8133], 428 / 429\n",
      "[11410, 12373], 963 / 964\n",
      "[15380, 16100], 720 / 721\n",
      "[73800, 74520], 720 / 721\n",
      "[90685, 90917], 232 / 233\n",
      "[92140, 92570], 430 / 431\n",
      "[93445, 93720], 275 / 276\n",
      "[103092, 103808], 716 / 717\n",
      "[115843, 116101], 258 / 259\n",
      "[116143, 116537], 394 / 395\n",
      "[117000, 117720], 720 / 721\n",
      "[132918, 133380], 462 / 463\n",
      "[142954, 143650], 696 / 697\n",
      "[172305, 172588], 283 / 284\n",
      "[172910, 173521], 611 / 612\n",
      "[198296, 199740], 192 / 1445\n",
      "[227828, 263727], 34208 / 35900\n",
      "[279120, 279240], 0 / 121\n",
      "[280060, 281230], 0 / 1171\n",
      "[302653, 303019], 0 / 367\n",
      "[347679, 348279], 0 / 601\n",
      "[361191, 361634], 154 / 444\n",
      "[371479, 371579], 0 / 101\n",
      "[371855, 372335], 109 / 481\n",
      "[389680, 390219], 46 / 540\n",
      "[436541, 437009], 468 / 469\n",
      "[437417, 437697], 242 / 281\n",
      "[438147, 438547], 363 / 401\n",
      "[438621, 438917], 258 / 297\n",
      "[443501, 445190], 51 / 1690\n"
     ]
    }
   ],
   "source": [
    "s, e = None, None\n",
    "for i in range(len(test_y)):\n",
    "    if test_y[i] == 1 and s is None:\n",
    "        s = i\n",
    "    elif test_y[i] == 0 and s is not None:\n",
    "        e = i - 1\n",
    "        print(f\"[{s}, {e}], {preds[s:e].sum()} / {e-s+1}\")\n",
    "        s, e = None, None"
   ]
  },
  {
   "cell_type": "markdown",
   "id": "c1a819cb",
   "metadata": {},
   "source": [
    "## With time series"
   ]
  },
  {
   "cell_type": "code",
   "execution_count": null,
   "id": "bf4e38f8",
   "metadata": {},
   "outputs": [],
   "source": [
    "# plot abnormal\n",
    "test_X, test_y = test_dataset.X, test_dataset.y\n",
    "\n",
    "B, L, C = Xhats.shape\n",
    "\n",
    "fig, ax = plt.subplots(6, 1, figsize=(20, 30))\n",
    "\n",
    "for c in range(min(args.num_channels, 5)):\n",
    "    # gt\n",
    "    ax[c].plot(test_X[:, c], color=\"black\", label=\"gt\")\n",
    "    plot_anomaly(ax[c], test_y)\n",
    "    \n",
    "    # reconed\n",
    "    ax[c].plot(Xhats_prev[:,:,c].reshape(-1), color=\"blue\", label=\"reconed w/o online learning\")\n",
    "    ax[c].plot(Xhats[:,:,c].reshape(-1), linewidth=0.5, color=\"green\", label=\"reconed w/ online learning\")\n",
    "    ax[c].legend()\n",
    "\n",
    "#ax[5].set_ylim([-1, 20])\n",
    "ax[5].plot(anoscs_prev.reshape(-1), color=\"blue\", label=\"anomaly score w/o online learning\")\n",
    "ax[5].plot(anoscs.reshape(-1), color=\"green\", label=\"anomaly score w/ online learning\")\n",
    "ax[5].axhline(th_q95, color=\"purple\", label=\"train 95% threshold\")\n",
    "ax[5].axhline(th_best_static, color=\"black\", label=\"oracle threshold\")\n",
    "ax[5].plot(thrs, color=\"gold\",label=\"dynamic threshold\")\n",
    "ax[5].legend()\n",
    "plot_anomaly(ax[5], test_y)\n",
    "\n",
    "plt.show()"
   ]
  },
  {
   "cell_type": "markdown",
   "id": "9e61ad18",
   "metadata": {},
   "source": [
    "### Label-guided Online learning"
   ]
  },
  {
   "cell_type": "code",
   "execution_count": null,
   "id": "db0f6f40",
   "metadata": {},
   "outputs": [],
   "source": [
    "init_thr = torch.quantile(train_error_dist, 0.95).item()\n",
    "thr = torch.tensor(init_thr, requires_grad=True)\n",
    "thr"
   ]
  },
  {
   "cell_type": "code",
   "execution_count": null,
   "id": "2303c72b",
   "metadata": {},
   "outputs": [],
   "source": [
    "eval_iterator = tqdm(\n",
    "    tester.test_loader,\n",
    "    total=len(tester.test_loader),\n",
    "    desc=\"calculating reconstruction errors\",\n",
    "    leave=True\n",
    ")\n",
    "\n",
    "lr = 1e-03\n",
    "TH_optimizer = torch.optim.SGD([thr]+[p for p in tester.model.parameters()], lr=lr)\n",
    "bce = torch.nn.BCELoss()\n",
    "\n",
    "Xs = []\n",
    "Xhats = []\n",
    "yhats = []\n",
    "anoscs=[]\n",
    "thrs = []\n",
    "preds = []\n",
    "for i, batch_data in enumerate(eval_iterator):\n",
    "    X, y = batch_data[0].to(tester.args.device), batch_data[1].to(tester.args.device)\n",
    "    Xs.append(X)\n",
    "    \n",
    "    # infer\n",
    "    B, L, C = X.shape\n",
    "    Xhat = tester.model(X.reshape(B, L*C)).reshape(B, L, C)\n",
    "    Xhats.append(Xhat)\n",
    "    \n",
    "    e = F.mse_loss(Xhat, X, reduction='none')\n",
    "    anosc = e.mean(dim=2)\n",
    "    anoscs.append(anosc)\n",
    "    thrs.append(thr.item())\n",
    "    pred = (anosc > thr)\n",
    "    preds.append(pred)\n",
    "    \n",
    "    # update\n",
    "    TH_optimizer.zero_grad()\n",
    "    yhat = torch.sigmoid(anosc-thr)\n",
    "    yhats.append(yhat)\n",
    "    cls_loss = bce(yhat, y.float())\n",
    "    mask = ((y == 0).unsqueeze(2))\n",
    "    recon_loss = (e*mask).mean()\n",
    "    loss = cls_loss + recon_loss\n",
    "    loss.backward()\n",
    "    TH_optimizer.step()\n",
    "    \n",
    "Xs = torch.cat(Xs, axis=0).detach().cpu().numpy()    \n",
    "Xhats = torch.cat(Xhats, axis=0).detach().cpu().numpy()\n",
    "yhats = torch.cat(yhats, axis=0).detach().cpu().numpy()\n",
    "\n",
    "anoscs = torch.cat(anoscs, axis=0).detach().cpu().numpy()\n",
    "thrs = np.repeat(np.array(thrs), args.window_size*args.eval_batch_size)\n",
    "preds = torch.cat(preds).reshape(-1).detach().cpu().numpy()"
   ]
  },
  {
   "cell_type": "code",
   "execution_count": null,
   "id": "81354415",
   "metadata": {},
   "outputs": [],
   "source": [
    "print(test_y.shape, preds.shape)\n",
    "get_summary_stats(test_y, preds)"
   ]
  },
  {
   "cell_type": "code",
   "execution_count": null,
   "id": "15433818",
   "metadata": {},
   "outputs": [],
   "source": [
    "# plot abnormal\n",
    "test_X, test_y = test_dataset.X, test_dataset.y\n",
    "\n",
    "B, L, C = Xhats.shape\n",
    "\n",
    "fig, ax = plt.subplots(6, 1, figsize=(20, 30))\n",
    "\n",
    "for c in range(min(args.num_channels, 5)):\n",
    "    # gt\n",
    "    ax[c].plot(test_X[:, c], color=\"black\", label=\"gt\")\n",
    "    plot_anomaly(ax[c], test_y)\n",
    "    \n",
    "    # reconed\n",
    "    ax[c].plot(Xhats_prev[:,:,c].reshape(-1), color=\"blue\", label=\"reconed w/o online learning\")\n",
    "    ax[c].plot(Xhats[:,:,c].reshape(-1), linewidth=0.5, color=\"green\", label=\"reconed w/ online learning\")\n",
    "    ax[c].legend()\n",
    "\n",
    "#ax[5].set_ylim([-1, 20])\n",
    "ax[5].plot(anoscs_prev.reshape(-1), color=\"blue\", label=\"anomaly score w/o online learning\")\n",
    "ax[5].plot(anoscs.reshape(-1), color=\"green\", label=\"anomaly score w/ online learning\")\n",
    "ax[5].axhline(th_q95, color=\"purple\", label=\"train 95% threshold\")\n",
    "ax[5].axhline(th_best_static, color=\"black\", label=\"oracle threshold\")\n",
    "ax[5].plot(thrs, color=\"gold\",label=\"dynamic threshold\")\n",
    "ax[5].legend()\n",
    "plot_anomaly(ax[5], test_y)\n",
    "\n",
    "plt.show()"
   ]
  },
  {
   "cell_type": "code",
   "execution_count": null,
   "id": "e7a818e7",
   "metadata": {},
   "outputs": [],
   "source": [
    "c=5\n",
    "plt.figure(figsize=(20, 6))\n",
    "plt.title(f\"{args.dataset}, channel {c}\")\n",
    "plt.plot(train_X[:, c], label=\"train\", color=\"#1f77b4\")\n",
    "plt.plot(range(len(train_X), len(train_X)+len(test_X)), test_X[:, c], label=\"test\", color=\"#ff7f0e\")\n",
    "lb = np.concatenate([np.zeros(len(train_X)), test_y])\n",
    "plot_anomaly(plt, lb)\n",
    "plt.legend()\n",
    "plt.show()"
   ]
  },
  {
   "cell_type": "code",
   "execution_count": null,
   "id": "e06ebd22",
   "metadata": {},
   "outputs": [],
   "source": [
    "c=7\n",
    "plt.figure(figsize=(20, 6))\n",
    "#plt.ylim(-6, 6)\n",
    "plt.title(f\"{args.dataset}, channel {c}\")\n",
    "\n",
    "plt.plot(train_X[:, c], label=\"train\", color=\"#1f77b4\")\n",
    "plt.axhline(train_X[100000:, c].mean(), color = 'r', label=\"mean of train data\")\n",
    "plt.plot(range(len(train_X), len(train_X)+len(test_X)), test_X[:, c], label=\"test\", color=\"#ff7f0e\")\n",
    "\n",
    "lb = np.concatenate([np.zeros(len(train_X)), test_y])\n",
    "plot_anomaly(plt, lb)\n",
    "plt.legend()\n",
    "plt.show()"
   ]
  },
  {
   "cell_type": "code",
   "execution_count": null,
   "id": "a614a95e",
   "metadata": {},
   "outputs": [],
   "source": [
    "C = 7\n",
    "for c in range(args.num_channels):\n",
    "    plt.figure(figsize=(20, 6))\n",
    "    plt.title(f\"{args.dataset}, channel {c}, train\")\n",
    "    plt.plot(train_X[:, c], label=\"train\", color=\"#1f77b4\")\n",
    "    plt.legend()\n",
    "    plt.show()\n",
    "\n",
    "    plt.figure(figsize=(20, 6))\n",
    "    plt.title(f\"{args.dataset}, channel {c}, test\")\n",
    "    plt.plot(test_X[:, c], label=\"test\", color=\"#ff7f0e\")\n",
    "    plot_anomaly(plt, test_y)\n",
    "    plt.legend()\n",
    "    plt.show()"
   ]
  },
  {
   "cell_type": "code",
   "execution_count": null,
   "id": "84bc6789",
   "metadata": {},
   "outputs": [],
   "source": []
  },
  {
   "cell_type": "code",
   "execution_count": null,
   "id": "8ad62b11",
   "metadata": {},
   "outputs": [],
   "source": []
  }
 ],
 "metadata": {
  "kernelspec": {
   "display_name": "Python 3",
   "language": "python",
   "name": "python3"
  },
  "language_info": {
   "codemirror_mode": {
    "name": "ipython",
    "version": 3
   },
   "file_extension": ".py",
   "mimetype": "text/x-python",
   "name": "python",
   "nbconvert_exporter": "python",
   "pygments_lexer": "ipython3",
   "version": "3.9.7"
  }
 },
 "nbformat": 4,
 "nbformat_minor": 5
}
